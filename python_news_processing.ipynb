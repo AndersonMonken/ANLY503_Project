{
 "cells": [
  {
   "cell_type": "markdown",
   "metadata": {},
   "source": [
    "## Anderson Monken\n",
    "## December 11, 2020\n",
    "## News data processing and graph production"
   ]
  },
  {
   "cell_type": "code",
   "execution_count": 1,
   "metadata": {},
   "outputs": [],
   "source": [
    "import os\n",
    "from striprtf.striprtf import rtf_to_text\n",
    "import pandas as pd\n",
    "from dateutil.parser import parse\n",
    "import seaborn as sns\n",
    "import plotly.graph_objects as go"
   ]
  },
  {
   "cell_type": "code",
   "execution_count": 2,
   "metadata": {},
   "outputs": [],
   "source": [
    "def article_file_process(file_name):\n",
    "    \"\"\" Process the raw rtf file and output list of articles \"\"\"\n",
    "    \n",
    "    # open and set up article into list of text lines\n",
    "    rtftext = open(file_name,'r').read()\n",
    "    rawtext = rtf_to_text(rtftext)\n",
    "    rawtextlines = rawtext.split('\\n')\n",
    "\n",
    "    # empty list and starter variables for the looping\n",
    "    article_list = [None] * 200\n",
    "    count = 0\n",
    "    article_line_count = 0\n",
    "    article_list[count] = {'rawtext' : [],\n",
    "                           'docid' : None,\n",
    "                           'metadata' : []}\n",
    "    article_meta = True\n",
    "\n",
    "    # loop through lines of the raw text\n",
    "    for line in rawtextlines:\n",
    "        \n",
    "        # this section is when we're at the end of the document, we don't care about the summary\n",
    "        if line == \"Search Summary\":\n",
    "            break\n",
    "        \n",
    "        # this is the start of a new article\n",
    "        elif line.find('Document ') != -1:\n",
    "            #print(f'article {count}: {line}')\n",
    "            article_list[count]['docid'] = line\n",
    "            count += 1\n",
    "\n",
    "            article_list[count] = {'rawtext' : [],\n",
    "                                   'docid' : None,\n",
    "                                   'metadata' : []}\n",
    "            article_meta = True\n",
    "            article_line_count = 0\n",
    "            \n",
    "        # this is a continuing article from the last doc line\n",
    "        # store the result in the text or metadata line based if we hit the copyright line or not\n",
    "        else:\n",
    "            article_line_count += 1\n",
    "            if article_line_count < 20 and article_meta == True:\n",
    "                article_list[count]['metadata'].append(line)\n",
    "\n",
    "                if line.startswith('Copyright'):\n",
    "                    article_meta = False\n",
    "            else:\n",
    "                article_list[count]['rawtext'].append(line)\n",
    "\n",
    "    # return all valid results\n",
    "    return [x for x in article_list if x is not None]"
   ]
  },
  {
   "cell_type": "code",
   "execution_count": 3,
   "metadata": {},
   "outputs": [
    {
     "name": "stdout",
     "output_type": "stream",
     "text": [
      "Factiva-20201118-2217.rtf\n",
      "Factiva-20201118-2223(1).rtf\n",
      "Factiva-20201118-2223.rtf\n",
      "Factiva-20201118-2224.rtf\n",
      "Factiva-20201118-2225.rtf\n",
      "Factiva-20201118-2226.rtf\n",
      "Factiva-20201118-2227.rtf\n",
      "Factiva-20201118-2228(1).rtf\n",
      "Factiva-20201118-2228.rtf\n",
      "Factiva-20201118-2229.rtf\n",
      "Factiva-20201118-2231.rtf\n",
      "Factiva-20201118-2232.rtf\n",
      "Factiva-20201118-2233.rtf\n",
      "Factiva-20201118-2234.rtf\n",
      "Factiva-20201118-2235.rtf\n",
      "Factiva-20201118-2236(1).rtf\n",
      "Factiva-20201118-2236.rtf\n",
      "Factiva-20201118-2237.rtf\n",
      "Factiva-20201118-2238.rtf\n",
      "Factiva-20201118-2239(1).rtf\n",
      "Factiva-20201118-2239.rtf\n",
      "Factiva-20201118-2240.rtf\n",
      "Factiva-20201118-2241(1).rtf\n",
      "Factiva-20201118-2241.rtf\n",
      "Factiva-20201118-2242.rtf\n",
      "Factiva-20201118-2243.rtf\n",
      "Factiva-20201118-2244.rtf\n",
      "Factiva-20201118-2245.rtf\n",
      "Factiva-20201118-2246(1).rtf\n",
      "Factiva-20201118-2246.rtf\n"
     ]
    }
   ],
   "source": [
    "# Execute processing function on all the raw text files\n",
    "results = []\n",
    "for file_i in os.listdir('.'):\n",
    "    if file_i.endswith('.rtf'):\n",
    "        print(file_i)\n",
    "        results.append(article_file_process(file_i))\n",
    "\n",
    "# flatten result to single list\n",
    "article_results = [x for result_i in results for x in result_i]"
   ]
  },
  {
   "cell_type": "code",
   "execution_count": 4,
   "metadata": {},
   "outputs": [
    {
     "data": {
      "text/plain": [
       "Index(['rawtext', 'docid', 'metadata'], dtype='object')"
      ]
     },
     "execution_count": 4,
     "metadata": {},
     "output_type": "execute_result"
    }
   ],
   "source": [
    "# turn into pandas dataframe for ease of processing\n",
    "df = pd.DataFrame(article_results)\n",
    "df.columns"
   ]
  },
  {
   "cell_type": "code",
   "execution_count": 5,
   "metadata": {},
   "outputs": [],
   "source": [
    "# filter out invalid entries\n",
    "df = df[[x is not None for x in df.docid]]\n",
    "df = df[df['rawtext'].apply(lambda x: len(x)) > 0]"
   ]
  },
  {
   "cell_type": "code",
   "execution_count": 6,
   "metadata": {},
   "outputs": [],
   "source": [
    "def source_identify(item):\n",
    "    \"\"\" Function to determine if article is NYTimes or WSJ based on metadata\"\"\"\n",
    "    ny_times = any([True if x.find('The New York Times') != -1 else False for x in item])\n",
    "    wsj = any([True if x.find('Wall Street Journal') != -1 else False for x in item])\n",
    "\n",
    "    if ny_times == True and wsj == True:\n",
    "        print(\"Double identification issue\")\n",
    "    elif ny_times == True:\n",
    "        return 'NY Times'\n",
    "    elif wsj == True:\n",
    "        return 'WSJ'\n",
    "    else:\n",
    "        print(\"No identification issue\")\n",
    "        print(ny_times, wsj)\n",
    "\n",
    "def soft_parse(x):\n",
    "    \"\"\" Try to parse date without erroring\"\"\"\n",
    "    try:\n",
    "        return parse(x)\n",
    "    except:\n",
    "        return None\n",
    "    \n",
    "def get_date(item):\n",
    "    \"\"\" Process all metadata lines and catch the first date for the dataframe \"\"\"\n",
    "    result = [soft_parse(x) for x in item]\n",
    "    dates = [x for x in result if x is not None]\n",
    "    return dates[0]  \n",
    "    "
   ]
  },
  {
   "cell_type": "code",
   "execution_count": 7,
   "metadata": {},
   "outputs": [],
   "source": [
    "df['publication'] = df['metadata'].apply(source_identify)\n",
    "df['article_date'] = df.metadata.apply(get_date)"
   ]
  },
  {
   "cell_type": "code",
   "execution_count": 8,
   "metadata": {},
   "outputs": [],
   "source": [
    "# join text into single field\n",
    "df['text'] = df.rawtext.apply(lambda x: ' '.join(x))"
   ]
  },
  {
   "cell_type": "code",
   "execution_count": 9,
   "metadata": {},
   "outputs": [
    {
     "data": {
      "text/plain": [
       "0        To the Editor:  Re ''F.B.I. Says Review Clear...\n",
       "1        Never mind.  That was the message James Comey...\n",
       "2        The current election -- regardless of its out...\n",
       "3        Shortly after the curtain fell on the 1976 el...\n",
       "4        CORRECTION APPENDEDCOLUMBUS, Ohio -- Sixteen ...\n",
       "                              ...                        \n",
       "2992     Your editorial calls the Libertarian Party's ...\n",
       "2993     ANAHEIM, Calif. -- DURING the final days of a...\n",
       "2994     LOS ANGELES -- THIS is a town where scripts r...\n",
       "2995     Each Saturday, Farhad Manjoo and Mike Isaac, ...\n",
       "2996     TUCSON, Ariz. -- Senator John McCain does not...\n",
       "Name: text, Length: 2967, dtype: object"
      ]
     },
     "execution_count": 9,
     "metadata": {},
     "output_type": "execute_result"
    }
   ],
   "source": [
    "df['text']"
   ]
  },
  {
   "cell_type": "code",
   "execution_count": 10,
   "metadata": {},
   "outputs": [],
   "source": [
    "#df['token_text'] = df['text'].swifter.apply(lambda x: [token for token in nlp.tokenizer(x.strip()) if not token.is_stop])"
   ]
  },
  {
   "cell_type": "code",
   "execution_count": 11,
   "metadata": {},
   "outputs": [],
   "source": [
    "df = df.reset_index(drop = True)"
   ]
  },
  {
   "cell_type": "code",
   "execution_count": 12,
   "metadata": {},
   "outputs": [],
   "source": [
    "from nltk.sentiment.vader import SentimentIntensityAnalyzer"
   ]
  },
  {
   "cell_type": "code",
   "execution_count": 13,
   "metadata": {},
   "outputs": [],
   "source": [
    "sid = SentimentIntensityAnalyzer()"
   ]
  },
  {
   "cell_type": "code",
   "execution_count": 14,
   "metadata": {},
   "outputs": [],
   "source": [
    "df['sentiment'] = df.text.apply(lambda x: sid.polarity_scores(x))"
   ]
  },
  {
   "cell_type": "code",
   "execution_count": 15,
   "metadata": {},
   "outputs": [],
   "source": [
    "df['neg_score'] = df['sentiment'].apply(lambda x: x['neg'])\n",
    "df['pos_score'] = df['sentiment'].apply(lambda x: x['pos'])"
   ]
  },
  {
   "cell_type": "code",
   "execution_count": 16,
   "metadata": {},
   "outputs": [],
   "source": [
    "import plotly.express as px"
   ]
  },
  {
   "cell_type": "code",
   "execution_count": 17,
   "metadata": {},
   "outputs": [
    {
     "data": {
      "text/plain": [
       "Index(['rawtext', 'docid', 'metadata', 'publication', 'article_date', 'text',\n",
       "       'sentiment', 'neg_score', 'pos_score'],\n",
       "      dtype='object')"
      ]
     },
     "execution_count": 17,
     "metadata": {},
     "output_type": "execute_result"
    }
   ],
   "source": [
    "df.columns"
   ]
  },
  {
   "cell_type": "code",
   "execution_count": 34,
   "metadata": {},
   "outputs": [
    {
     "name": "stderr",
     "output_type": "stream",
     "text": [
      "<ipython-input-34-ad56982355fd>:1: FutureWarning:\n",
      "\n",
      "Indexing with multiple keys (implicitly converted to a tuple of keys) will be deprecated, use a list instead.\n",
      "\n"
     ]
    }
   ],
   "source": [
    "df_date = df.groupby(['article_date','publication'])['neg_score','pos_score'].mean().reset_index()\n",
    "df_date_count = df.groupby(['article_date','publication'])['rawtext'].count().reset_index()"
   ]
  },
  {
   "cell_type": "code",
   "execution_count": 35,
   "metadata": {},
   "outputs": [],
   "source": [
    "df_date['diff'] = df['neg_score'] - df['pos_score']\n",
    "df_ma14 = df_date.set_index('article_date').groupby('publication').rolling(window=14).mean().reset_index()\n",
    "df_ma14[['neg_score','pos_score']] = round(df_ma14[['neg_score','pos_score']],4)"
   ]
  },
  {
   "cell_type": "code",
   "execution_count": 127,
   "metadata": {},
   "outputs": [],
   "source": [
    "fig = px.line(df_ma14, \n",
    "        x = 'article_date', \n",
    "        y = 'neg_score', \n",
    "        color = 'publication',\n",
    "        template='simple_white',\n",
    "        labels={\"article_date\": \"Date (14 day moving average)\",\n",
    "                \"neg_score\": \"Average VADER Negative Sentiment Score\",\n",
    "                \"publication\": \"Publication\"},\n",
    "        title=\"Negative sentiment of 2016 U.S. Presidential election articles by publication\",\n",
    "        color_discrete_map={\"NY Times\": \"steelblue\", \"WSJ\": \"red\"})\n",
    "fig.add_shape(type=\"line\",\n",
    "    x0='2016-07-21', y0=df_ma14.neg_score.min(), x1='2016-07-21', y1=0.08,\n",
    "    line=dict(color=\"red\",width=3, dash = 'dot')\n",
    ")\n",
    "fig.add_shape(type=\"line\",\n",
    "    x0='2016-07-28', y0=df_ma14.neg_score.min(), x1='2016-07-28', y1=0.08,\n",
    "    line=dict(color=\"blue\",width=3, dash = 'dot')\n",
    ")\n",
    "fig.add_shape(type=\"line\",\n",
    "    x0='2016-10-28', y0=df_ma14.neg_score.min(), x1='2016-10-28', y1=0.08,\n",
    "    line=dict(color=\"blue\",width=3, dash = 'dot')\n",
    ")\n",
    "fig.add_trace(go.Scatter(\n",
    "    x=['2016-07-11', '2016-08-08', '2016-10-21'],\n",
    "    y=[0.08, 0.08, 0.081],\n",
    "    text=[\"RNC Closing Night\",\n",
    "          \"DNC Closing Night\",\n",
    "          \"Comey Email Speech\"],\n",
    "    mode=\"text\",\n",
    "    hoverinfo='none'\n",
    "))\n",
    "fig.add_annotation(text=\"Source: Factiva News, author calculations\",\n",
    "                  xref=\"paper\", yref=\"paper\",\n",
    "                  x=0, y=-0.22, showarrow=False)\n",
    "\n",
    "fig.write_html('plotly_negsentiment.html')"
   ]
  },
  {
   "cell_type": "code",
   "execution_count": 128,
   "metadata": {},
   "outputs": [],
   "source": [
    "fig = px.line(df_ma14, \n",
    "        x = 'article_date', \n",
    "        y = 'pos_score', \n",
    "        color = 'publication',\n",
    "        template='simple_white',\n",
    "        labels={\"article_date\": \"Date (14 day moving average)\",\n",
    "        \"pos_score\": \"Average VADER Positive Sentiment Score\",\n",
    "        \"publication\": \"Publication\"},\n",
    "        title=\"Positive sentiment of 2016 U.S. Presidential election articles by publication\",\n",
    "        color_discrete_map={\"NY Times\": \"steelblue\", \"WSJ\": \"red\"})\n",
    "\n",
    "fig.add_shape(type=\"line\",\n",
    "    x0='2016-07-21', y0=df_ma14.pos_score.min(), x1='2016-07-21', y1=0.103,\n",
    "    line=dict(color=\"red\",width=3, dash = 'dot')\n",
    ")\n",
    "fig.add_shape(type=\"line\",\n",
    "    x0='2016-07-28', y0=df_ma14.pos_score.min(), x1='2016-07-28', y1=0.103,\n",
    "    line=dict(color=\"blue\",width=3, dash = 'dot')\n",
    ")\n",
    "fig.add_shape(type=\"line\",\n",
    "    x0='2016-10-28', y0=df_ma14.pos_score.min(), x1='2016-10-28', y1=0.103,\n",
    "    line=dict(color=\"blue\",width=3, dash = 'dot')\n",
    ")\n",
    "fig.add_trace(go.Scatter(\n",
    "    x=['2016-07-11', '2016-08-08', '2016-10-21'],\n",
    "    y=[0.103, 0.103, 0.104],\n",
    "    text=[\"RNC Closing Night\",\n",
    "          \"DNC Closing Night\",\n",
    "          \"Comey Email Speech\"],\n",
    "    mode=\"text\",\n",
    "    hoverinfo='none'\n",
    "))\n",
    "fig.add_annotation(text=\"Source: Factiva News, author calculations\",\n",
    "                  xref=\"paper\", yref=\"paper\",\n",
    "                  x=0, y=-0.22, showarrow=False)\n",
    "fig.write_html('plotly_possentiment.html')"
   ]
  },
  {
   "cell_type": "markdown",
   "metadata": {},
   "source": [
    "### TF-IDF calculation"
   ]
  },
  {
   "cell_type": "code",
   "execution_count": 38,
   "metadata": {},
   "outputs": [],
   "source": [
    "import seaborn as sns\n",
    "from nltk.tokenize import word_tokenize\n",
    "from nltk.corpus import stopwords\n",
    "from nltk import bigrams\n",
    "from sklearn.feature_extraction.text import TfidfVectorizer\n",
    "from nltk.stem import PorterStemmer\n",
    "import re\n",
    "porter = PorterStemmer()\n",
    "stop_words = stopwords.words('english') + ['mr','said','would']\n",
    "import matplotlib.pyplot as plt"
   ]
  },
  {
   "cell_type": "code",
   "execution_count": 39,
   "metadata": {},
   "outputs": [],
   "source": [
    "def preprocess_text(sen):\n",
    "    # Remove punctuations and numbers\n",
    "    sentence = re.sub('[^a-zA-Z]', ' ', sen)\n",
    "\n",
    "    # Single character removal\n",
    "    sentence = re.sub(r\"\\s+[a-zA-Z]\\s+\", ' ', sentence)\n",
    "\n",
    "    # Removing multiple spaces\n",
    "    sentence = re.sub(r'\\s+', ' ', sentence)\n",
    "\n",
    "    # tokenize\n",
    "    tokenized_sentence = word_tokenize(sentence.lower())\n",
    "    \n",
    "    # remove stop words and stem\n",
    "    token_words = [porter.stem(w) for w in tokenized_sentence if not w in stop_words]  \n",
    "    token_words = [w for w in token_words if not w in stop_words]  \n",
    "    return ' '.join(token_words)"
   ]
  },
  {
   "cell_type": "code",
   "execution_count": 40,
   "metadata": {},
   "outputs": [],
   "source": [
    "df['nltk_text'] = df['text'].apply(lambda x: preprocess_text(x))"
   ]
  },
  {
   "cell_type": "code",
   "execution_count": 41,
   "metadata": {},
   "outputs": [],
   "source": [
    "sk_tfidf = TfidfVectorizer()"
   ]
  },
  {
   "cell_type": "code",
   "execution_count": 42,
   "metadata": {},
   "outputs": [],
   "source": [
    "vectors = sk_tfidf.fit_transform(df['nltk_text'])\n",
    "feature_names = sk_tfidf.get_feature_names()\n",
    "denselist = vectors.todense().tolist()"
   ]
  },
  {
   "cell_type": "code",
   "execution_count": 43,
   "metadata": {},
   "outputs": [],
   "source": [
    "matrix_tfidf = pd.DataFrame(denselist, columns=feature_names)"
   ]
  },
  {
   "cell_type": "code",
   "execution_count": 44,
   "metadata": {},
   "outputs": [
    {
     "data": {
      "text/html": [
       "<div>\n",
       "<style scoped>\n",
       "    .dataframe tbody tr th:only-of-type {\n",
       "        vertical-align: middle;\n",
       "    }\n",
       "\n",
       "    .dataframe tbody tr th {\n",
       "        vertical-align: top;\n",
       "    }\n",
       "\n",
       "    .dataframe thead th {\n",
       "        text-align: right;\n",
       "    }\n",
       "</style>\n",
       "<table border=\"1\" class=\"dataframe\">\n",
       "  <thead>\n",
       "    <tr style=\"text-align: right;\">\n",
       "      <th></th>\n",
       "      <th>aaa</th>\n",
       "      <th>aacm</th>\n",
       "      <th>aardvark</th>\n",
       "      <th>aaron</th>\n",
       "      <th>aaronkaterski</th>\n",
       "      <th>aarp</th>\n",
       "      <th>aasif</th>\n",
       "      <th>ab</th>\n",
       "      <th>aba</th>\n",
       "      <th>ababa</th>\n",
       "      <th>...</th>\n",
       "      <th>zuleeg</th>\n",
       "      <th>zulfikar</th>\n",
       "      <th>zuma</th>\n",
       "      <th>zumbrun</th>\n",
       "      <th>zur</th>\n",
       "      <th>zurich</th>\n",
       "      <th>zverev</th>\n",
       "      <th>zvi</th>\n",
       "      <th>zvia</th>\n",
       "      <th>zwick</th>\n",
       "    </tr>\n",
       "  </thead>\n",
       "  <tbody>\n",
       "    <tr>\n",
       "      <th>0</th>\n",
       "      <td>0.0</td>\n",
       "      <td>0.0</td>\n",
       "      <td>0.0</td>\n",
       "      <td>0.0</td>\n",
       "      <td>0.0</td>\n",
       "      <td>0.0</td>\n",
       "      <td>0.0</td>\n",
       "      <td>0.0</td>\n",
       "      <td>0.0</td>\n",
       "      <td>0.0</td>\n",
       "      <td>...</td>\n",
       "      <td>0.0</td>\n",
       "      <td>0.0</td>\n",
       "      <td>0.0</td>\n",
       "      <td>0.0</td>\n",
       "      <td>0.0</td>\n",
       "      <td>0.0</td>\n",
       "      <td>0.0</td>\n",
       "      <td>0.0</td>\n",
       "      <td>0.0</td>\n",
       "      <td>0.0</td>\n",
       "    </tr>\n",
       "    <tr>\n",
       "      <th>1</th>\n",
       "      <td>0.0</td>\n",
       "      <td>0.0</td>\n",
       "      <td>0.0</td>\n",
       "      <td>0.0</td>\n",
       "      <td>0.0</td>\n",
       "      <td>0.0</td>\n",
       "      <td>0.0</td>\n",
       "      <td>0.0</td>\n",
       "      <td>0.0</td>\n",
       "      <td>0.0</td>\n",
       "      <td>...</td>\n",
       "      <td>0.0</td>\n",
       "      <td>0.0</td>\n",
       "      <td>0.0</td>\n",
       "      <td>0.0</td>\n",
       "      <td>0.0</td>\n",
       "      <td>0.0</td>\n",
       "      <td>0.0</td>\n",
       "      <td>0.0</td>\n",
       "      <td>0.0</td>\n",
       "      <td>0.0</td>\n",
       "    </tr>\n",
       "    <tr>\n",
       "      <th>2</th>\n",
       "      <td>0.0</td>\n",
       "      <td>0.0</td>\n",
       "      <td>0.0</td>\n",
       "      <td>0.0</td>\n",
       "      <td>0.0</td>\n",
       "      <td>0.0</td>\n",
       "      <td>0.0</td>\n",
       "      <td>0.0</td>\n",
       "      <td>0.0</td>\n",
       "      <td>0.0</td>\n",
       "      <td>...</td>\n",
       "      <td>0.0</td>\n",
       "      <td>0.0</td>\n",
       "      <td>0.0</td>\n",
       "      <td>0.0</td>\n",
       "      <td>0.0</td>\n",
       "      <td>0.0</td>\n",
       "      <td>0.0</td>\n",
       "      <td>0.0</td>\n",
       "      <td>0.0</td>\n",
       "      <td>0.0</td>\n",
       "    </tr>\n",
       "    <tr>\n",
       "      <th>3</th>\n",
       "      <td>0.0</td>\n",
       "      <td>0.0</td>\n",
       "      <td>0.0</td>\n",
       "      <td>0.0</td>\n",
       "      <td>0.0</td>\n",
       "      <td>0.0</td>\n",
       "      <td>0.0</td>\n",
       "      <td>0.0</td>\n",
       "      <td>0.0</td>\n",
       "      <td>0.0</td>\n",
       "      <td>...</td>\n",
       "      <td>0.0</td>\n",
       "      <td>0.0</td>\n",
       "      <td>0.0</td>\n",
       "      <td>0.0</td>\n",
       "      <td>0.0</td>\n",
       "      <td>0.0</td>\n",
       "      <td>0.0</td>\n",
       "      <td>0.0</td>\n",
       "      <td>0.0</td>\n",
       "      <td>0.0</td>\n",
       "    </tr>\n",
       "    <tr>\n",
       "      <th>4</th>\n",
       "      <td>0.0</td>\n",
       "      <td>0.0</td>\n",
       "      <td>0.0</td>\n",
       "      <td>0.0</td>\n",
       "      <td>0.0</td>\n",
       "      <td>0.0</td>\n",
       "      <td>0.0</td>\n",
       "      <td>0.0</td>\n",
       "      <td>0.0</td>\n",
       "      <td>0.0</td>\n",
       "      <td>...</td>\n",
       "      <td>0.0</td>\n",
       "      <td>0.0</td>\n",
       "      <td>0.0</td>\n",
       "      <td>0.0</td>\n",
       "      <td>0.0</td>\n",
       "      <td>0.0</td>\n",
       "      <td>0.0</td>\n",
       "      <td>0.0</td>\n",
       "      <td>0.0</td>\n",
       "      <td>0.0</td>\n",
       "    </tr>\n",
       "    <tr>\n",
       "      <th>...</th>\n",
       "      <td>...</td>\n",
       "      <td>...</td>\n",
       "      <td>...</td>\n",
       "      <td>...</td>\n",
       "      <td>...</td>\n",
       "      <td>...</td>\n",
       "      <td>...</td>\n",
       "      <td>...</td>\n",
       "      <td>...</td>\n",
       "      <td>...</td>\n",
       "      <td>...</td>\n",
       "      <td>...</td>\n",
       "      <td>...</td>\n",
       "      <td>...</td>\n",
       "      <td>...</td>\n",
       "      <td>...</td>\n",
       "      <td>...</td>\n",
       "      <td>...</td>\n",
       "      <td>...</td>\n",
       "      <td>...</td>\n",
       "      <td>...</td>\n",
       "    </tr>\n",
       "    <tr>\n",
       "      <th>2962</th>\n",
       "      <td>0.0</td>\n",
       "      <td>0.0</td>\n",
       "      <td>0.0</td>\n",
       "      <td>0.0</td>\n",
       "      <td>0.0</td>\n",
       "      <td>0.0</td>\n",
       "      <td>0.0</td>\n",
       "      <td>0.0</td>\n",
       "      <td>0.0</td>\n",
       "      <td>0.0</td>\n",
       "      <td>...</td>\n",
       "      <td>0.0</td>\n",
       "      <td>0.0</td>\n",
       "      <td>0.0</td>\n",
       "      <td>0.0</td>\n",
       "      <td>0.0</td>\n",
       "      <td>0.0</td>\n",
       "      <td>0.0</td>\n",
       "      <td>0.0</td>\n",
       "      <td>0.0</td>\n",
       "      <td>0.0</td>\n",
       "    </tr>\n",
       "    <tr>\n",
       "      <th>2963</th>\n",
       "      <td>0.0</td>\n",
       "      <td>0.0</td>\n",
       "      <td>0.0</td>\n",
       "      <td>0.0</td>\n",
       "      <td>0.0</td>\n",
       "      <td>0.0</td>\n",
       "      <td>0.0</td>\n",
       "      <td>0.0</td>\n",
       "      <td>0.0</td>\n",
       "      <td>0.0</td>\n",
       "      <td>...</td>\n",
       "      <td>0.0</td>\n",
       "      <td>0.0</td>\n",
       "      <td>0.0</td>\n",
       "      <td>0.0</td>\n",
       "      <td>0.0</td>\n",
       "      <td>0.0</td>\n",
       "      <td>0.0</td>\n",
       "      <td>0.0</td>\n",
       "      <td>0.0</td>\n",
       "      <td>0.0</td>\n",
       "    </tr>\n",
       "    <tr>\n",
       "      <th>2964</th>\n",
       "      <td>0.0</td>\n",
       "      <td>0.0</td>\n",
       "      <td>0.0</td>\n",
       "      <td>0.0</td>\n",
       "      <td>0.0</td>\n",
       "      <td>0.0</td>\n",
       "      <td>0.0</td>\n",
       "      <td>0.0</td>\n",
       "      <td>0.0</td>\n",
       "      <td>0.0</td>\n",
       "      <td>...</td>\n",
       "      <td>0.0</td>\n",
       "      <td>0.0</td>\n",
       "      <td>0.0</td>\n",
       "      <td>0.0</td>\n",
       "      <td>0.0</td>\n",
       "      <td>0.0</td>\n",
       "      <td>0.0</td>\n",
       "      <td>0.0</td>\n",
       "      <td>0.0</td>\n",
       "      <td>0.0</td>\n",
       "    </tr>\n",
       "    <tr>\n",
       "      <th>2965</th>\n",
       "      <td>0.0</td>\n",
       "      <td>0.0</td>\n",
       "      <td>0.0</td>\n",
       "      <td>0.0</td>\n",
       "      <td>0.0</td>\n",
       "      <td>0.0</td>\n",
       "      <td>0.0</td>\n",
       "      <td>0.0</td>\n",
       "      <td>0.0</td>\n",
       "      <td>0.0</td>\n",
       "      <td>...</td>\n",
       "      <td>0.0</td>\n",
       "      <td>0.0</td>\n",
       "      <td>0.0</td>\n",
       "      <td>0.0</td>\n",
       "      <td>0.0</td>\n",
       "      <td>0.0</td>\n",
       "      <td>0.0</td>\n",
       "      <td>0.0</td>\n",
       "      <td>0.0</td>\n",
       "      <td>0.0</td>\n",
       "    </tr>\n",
       "    <tr>\n",
       "      <th>2966</th>\n",
       "      <td>0.0</td>\n",
       "      <td>0.0</td>\n",
       "      <td>0.0</td>\n",
       "      <td>0.0</td>\n",
       "      <td>0.0</td>\n",
       "      <td>0.0</td>\n",
       "      <td>0.0</td>\n",
       "      <td>0.0</td>\n",
       "      <td>0.0</td>\n",
       "      <td>0.0</td>\n",
       "      <td>...</td>\n",
       "      <td>0.0</td>\n",
       "      <td>0.0</td>\n",
       "      <td>0.0</td>\n",
       "      <td>0.0</td>\n",
       "      <td>0.0</td>\n",
       "      <td>0.0</td>\n",
       "      <td>0.0</td>\n",
       "      <td>0.0</td>\n",
       "      <td>0.0</td>\n",
       "      <td>0.0</td>\n",
       "    </tr>\n",
       "  </tbody>\n",
       "</table>\n",
       "<p>2967 rows × 30160 columns</p>\n",
       "</div>"
      ],
      "text/plain": [
       "      aaa  aacm  aardvark  aaron  aaronkaterski  aarp  aasif   ab  aba  ababa  \\\n",
       "0     0.0   0.0       0.0    0.0            0.0   0.0    0.0  0.0  0.0    0.0   \n",
       "1     0.0   0.0       0.0    0.0            0.0   0.0    0.0  0.0  0.0    0.0   \n",
       "2     0.0   0.0       0.0    0.0            0.0   0.0    0.0  0.0  0.0    0.0   \n",
       "3     0.0   0.0       0.0    0.0            0.0   0.0    0.0  0.0  0.0    0.0   \n",
       "4     0.0   0.0       0.0    0.0            0.0   0.0    0.0  0.0  0.0    0.0   \n",
       "...   ...   ...       ...    ...            ...   ...    ...  ...  ...    ...   \n",
       "2962  0.0   0.0       0.0    0.0            0.0   0.0    0.0  0.0  0.0    0.0   \n",
       "2963  0.0   0.0       0.0    0.0            0.0   0.0    0.0  0.0  0.0    0.0   \n",
       "2964  0.0   0.0       0.0    0.0            0.0   0.0    0.0  0.0  0.0    0.0   \n",
       "2965  0.0   0.0       0.0    0.0            0.0   0.0    0.0  0.0  0.0    0.0   \n",
       "2966  0.0   0.0       0.0    0.0            0.0   0.0    0.0  0.0  0.0    0.0   \n",
       "\n",
       "      ...  zuleeg  zulfikar  zuma  zumbrun  zur  zurich  zverev  zvi  zvia  \\\n",
       "0     ...     0.0       0.0   0.0      0.0  0.0     0.0     0.0  0.0   0.0   \n",
       "1     ...     0.0       0.0   0.0      0.0  0.0     0.0     0.0  0.0   0.0   \n",
       "2     ...     0.0       0.0   0.0      0.0  0.0     0.0     0.0  0.0   0.0   \n",
       "3     ...     0.0       0.0   0.0      0.0  0.0     0.0     0.0  0.0   0.0   \n",
       "4     ...     0.0       0.0   0.0      0.0  0.0     0.0     0.0  0.0   0.0   \n",
       "...   ...     ...       ...   ...      ...  ...     ...     ...  ...   ...   \n",
       "2962  ...     0.0       0.0   0.0      0.0  0.0     0.0     0.0  0.0   0.0   \n",
       "2963  ...     0.0       0.0   0.0      0.0  0.0     0.0     0.0  0.0   0.0   \n",
       "2964  ...     0.0       0.0   0.0      0.0  0.0     0.0     0.0  0.0   0.0   \n",
       "2965  ...     0.0       0.0   0.0      0.0  0.0     0.0     0.0  0.0   0.0   \n",
       "2966  ...     0.0       0.0   0.0      0.0  0.0     0.0     0.0  0.0   0.0   \n",
       "\n",
       "      zwick  \n",
       "0       0.0  \n",
       "1       0.0  \n",
       "2       0.0  \n",
       "3       0.0  \n",
       "4       0.0  \n",
       "...     ...  \n",
       "2962    0.0  \n",
       "2963    0.0  \n",
       "2964    0.0  \n",
       "2965    0.0  \n",
       "2966    0.0  \n",
       "\n",
       "[2967 rows x 30160 columns]"
      ]
     },
     "execution_count": 44,
     "metadata": {},
     "output_type": "execute_result"
    }
   ],
   "source": [
    "matrix_tfidf"
   ]
  },
  {
   "cell_type": "code",
   "execution_count": 45,
   "metadata": {},
   "outputs": [],
   "source": [
    "df_tfidf = matrix_tfidf.set_index(df['publication'])"
   ]
  },
  {
   "cell_type": "code",
   "execution_count": 46,
   "metadata": {},
   "outputs": [],
   "source": [
    "words_tfidf = df_tfidf.groupby(level = 0).mean().stack().reset_index()"
   ]
  },
  {
   "cell_type": "code",
   "execution_count": 47,
   "metadata": {},
   "outputs": [
    {
     "data": {
      "text/html": [
       "<div>\n",
       "<style scoped>\n",
       "    .dataframe tbody tr th:only-of-type {\n",
       "        vertical-align: middle;\n",
       "    }\n",
       "\n",
       "    .dataframe tbody tr th {\n",
       "        vertical-align: top;\n",
       "    }\n",
       "\n",
       "    .dataframe thead th {\n",
       "        text-align: right;\n",
       "    }\n",
       "</style>\n",
       "<table border=\"1\" class=\"dataframe\">\n",
       "  <thead>\n",
       "    <tr style=\"text-align: right;\">\n",
       "      <th></th>\n",
       "      <th>publication</th>\n",
       "      <th>level_1</th>\n",
       "      <th>0</th>\n",
       "    </tr>\n",
       "  </thead>\n",
       "  <tbody>\n",
       "    <tr>\n",
       "      <th>0</th>\n",
       "      <td>NY Times</td>\n",
       "      <td>aaa</td>\n",
       "      <td>0.000014</td>\n",
       "    </tr>\n",
       "    <tr>\n",
       "      <th>1</th>\n",
       "      <td>NY Times</td>\n",
       "      <td>aacm</td>\n",
       "      <td>0.000015</td>\n",
       "    </tr>\n",
       "    <tr>\n",
       "      <th>2</th>\n",
       "      <td>NY Times</td>\n",
       "      <td>aardvark</td>\n",
       "      <td>0.000049</td>\n",
       "    </tr>\n",
       "    <tr>\n",
       "      <th>3</th>\n",
       "      <td>NY Times</td>\n",
       "      <td>aaron</td>\n",
       "      <td>0.000334</td>\n",
       "    </tr>\n",
       "    <tr>\n",
       "      <th>4</th>\n",
       "      <td>NY Times</td>\n",
       "      <td>aaronkaterski</td>\n",
       "      <td>0.000037</td>\n",
       "    </tr>\n",
       "    <tr>\n",
       "      <th>...</th>\n",
       "      <td>...</td>\n",
       "      <td>...</td>\n",
       "      <td>...</td>\n",
       "    </tr>\n",
       "    <tr>\n",
       "      <th>60315</th>\n",
       "      <td>WSJ</td>\n",
       "      <td>zurich</td>\n",
       "      <td>0.000036</td>\n",
       "    </tr>\n",
       "    <tr>\n",
       "      <th>60316</th>\n",
       "      <td>WSJ</td>\n",
       "      <td>zverev</td>\n",
       "      <td>0.000000</td>\n",
       "    </tr>\n",
       "    <tr>\n",
       "      <th>60317</th>\n",
       "      <td>WSJ</td>\n",
       "      <td>zvi</td>\n",
       "      <td>0.000000</td>\n",
       "    </tr>\n",
       "    <tr>\n",
       "      <th>60318</th>\n",
       "      <td>WSJ</td>\n",
       "      <td>zvia</td>\n",
       "      <td>0.000000</td>\n",
       "    </tr>\n",
       "    <tr>\n",
       "      <th>60319</th>\n",
       "      <td>WSJ</td>\n",
       "      <td>zwick</td>\n",
       "      <td>0.000000</td>\n",
       "    </tr>\n",
       "  </tbody>\n",
       "</table>\n",
       "<p>60320 rows × 3 columns</p>\n",
       "</div>"
      ],
      "text/plain": [
       "      publication        level_1         0\n",
       "0        NY Times            aaa  0.000014\n",
       "1        NY Times           aacm  0.000015\n",
       "2        NY Times       aardvark  0.000049\n",
       "3        NY Times          aaron  0.000334\n",
       "4        NY Times  aaronkaterski  0.000037\n",
       "...           ...            ...       ...\n",
       "60315         WSJ         zurich  0.000036\n",
       "60316         WSJ         zverev  0.000000\n",
       "60317         WSJ            zvi  0.000000\n",
       "60318         WSJ           zvia  0.000000\n",
       "60319         WSJ          zwick  0.000000\n",
       "\n",
       "[60320 rows x 3 columns]"
      ]
     },
     "execution_count": 47,
     "metadata": {},
     "output_type": "execute_result"
    }
   ],
   "source": [
    "words_tfidf"
   ]
  },
  {
   "cell_type": "code",
   "execution_count": 48,
   "metadata": {},
   "outputs": [],
   "source": [
    "words_tfidf.columns = ['Publication','word_input','mean_tfidf']"
   ]
  },
  {
   "cell_type": "code",
   "execution_count": 80,
   "metadata": {},
   "outputs": [],
   "source": [
    "top_tfidf = words_tfidf.set_index('word_input').groupby('Publication').mean_tfidf.nlargest(20).reset_index()"
   ]
  },
  {
   "cell_type": "code",
   "execution_count": 81,
   "metadata": {},
   "outputs": [
    {
     "data": {
      "text/html": [
       "<div>\n",
       "<style scoped>\n",
       "    .dataframe tbody tr th:only-of-type {\n",
       "        vertical-align: middle;\n",
       "    }\n",
       "\n",
       "    .dataframe tbody tr th {\n",
       "        vertical-align: top;\n",
       "    }\n",
       "\n",
       "    .dataframe thead th {\n",
       "        text-align: right;\n",
       "    }\n",
       "</style>\n",
       "<table border=\"1\" class=\"dataframe\">\n",
       "  <thead>\n",
       "    <tr style=\"text-align: right;\">\n",
       "      <th></th>\n",
       "      <th>Publication</th>\n",
       "      <th>word_input</th>\n",
       "      <th>mean_tfidf</th>\n",
       "    </tr>\n",
       "  </thead>\n",
       "  <tbody>\n",
       "  </tbody>\n",
       "</table>\n",
       "</div>"
      ],
      "text/plain": [
       "Empty DataFrame\n",
       "Columns: [Publication, word_input, mean_tfidf]\n",
       "Index: []"
      ]
     },
     "execution_count": 81,
     "metadata": {},
     "output_type": "execute_result"
    }
   ],
   "source": [
    "top_tfidf[top_tfidf['word_input'] == 'email']"
   ]
  },
  {
   "cell_type": "code",
   "execution_count": 84,
   "metadata": {},
   "outputs": [],
   "source": [
    "top_tfidf.to_csv('tfidf.csv')"
   ]
  },
  {
   "cell_type": "code",
   "execution_count": 126,
   "metadata": {},
   "outputs": [
    {
     "data": {
      "image/png": "[encoded data removed]",
      "text/plain": [
       "<Figure size 1008x576 with 1 Axes>"
      ]
     },
     "metadata": {
      "needs_background": "light"
     },
     "output_type": "display_data"
    }
   ],
   "source": [
    "from matplotlib import rc\n",
    "import matplotlib.pyplot as plt\n",
    "import pandas as pd\n",
    "top_tfidf = pd.read_csv('tfidf.csv')\n",
    "rc('text', usetex=True)\n",
    "fig = plt.figure(figsize=(14,8))\n",
    "#sns.set_palette([sns.color_palette()[0],sns.color_palette()[3]])\n",
    "with sns.axes_style(\"ticks\"):\n",
    "    sns.barplot(data = top_tfidf, x = 'mean_tfidf', y = 'word_input', hue ='Publication')\n",
    "    plt.title(\"Most important words in U.S. Presidential election\\nnews articles using mean TF-IDF score\", fontsize = 20)\n",
    "    plt.ylabel('Stemmed words')\n",
    "    plt.xlabel(r'\\begin{center}Mean TF-IDF Score\\\\*\\textit{\\normalsize{' + 'Source: Factiva News, author calculations' + r'}}\\end{center}')\n",
    "    #plt.show()\n",
    "    \n",
    "    SMALL_SIZE = 14\n",
    "    MEDIUM_SIZE = 15\n",
    "    BIGGER_SIZE = 16\n",
    "\n",
    "    plt.rc('font', size=SMALL_SIZE)          # controls default text sizes\n",
    "    plt.rc('axes', titlesize=SMALL_SIZE)     # fontsize of the axes title\n",
    "    plt.rc('axes', labelsize=MEDIUM_SIZE)    # fontsize of the x and y labels\n",
    "    plt.rc('xtick', labelsize=SMALL_SIZE)    # fontsize of the tick labels\n",
    "    plt.rc('ytick', labelsize=SMALL_SIZE)    # fontsize of the tick labels\n",
    "    plt.rc('legend', fontsize=SMALL_SIZE)    # legend fontsize\n",
    "    plt.rc('figure', titlesize=BIGGER_SIZE)  # fontsize of the figure title\n",
    "    \n",
    "    fig.savefig('test.png', dpi = 600)"
   ]
  },
  {
   "cell_type": "markdown",
   "metadata": {},
   "source": [
    "## Bigram network diagram"
   ]
  },
  {
   "cell_type": "code",
   "execution_count": null,
   "metadata": {},
   "outputs": [],
   "source": [
    "# reference from this site that walks through bi-gram analysis \n",
    "# https://www.earthdatascience.org/courses/use-data-open-source-python/intro-to-apis/calculate-tweet-word-bigrams/"
   ]
  },
  {
   "cell_type": "code",
   "execution_count": 107,
   "metadata": {},
   "outputs": [],
   "source": [
    "from nltk import bigrams\n",
    "import itertools\n",
    "import collections\n",
    "import networkx as nx"
   ]
  },
  {
   "cell_type": "code",
   "execution_count": 109,
   "metadata": {},
   "outputs": [],
   "source": [
    "# get list of articles for nytimes\n",
    "list_articles_nytimes = df[df['publication'] == 'NY Times']['nltk_text'].apply(lambda x: x.split(' ')).tolist()\n",
    "# list of bigrams\n",
    "list_bigrams_nytimes = [list(bigrams(tweet)) for tweet in list_articles_nytimes]\n",
    "# flatten list of bigrams\n",
    "terms_bigram_nytimes = list(itertools.chain(*list_bigrams_nytimes))\n",
    "# count bigrams across corpus\n",
    "bigram_counts_nytimes = collections.Counter(terms_bigram_nytimes)\n",
    "# select top 20\n",
    "top_bigrams_nytimes = bigram_counts_nytimes.most_common(20)\n",
    "# make a df\n",
    "bigram_df_nytimes = pd.DataFrame(top_bigrams_nytimes, columns=['bigram', 'count'])"
   ]
  },
  {
   "cell_type": "code",
   "execution_count": 110,
   "metadata": {},
   "outputs": [],
   "source": [
    "# get list of articles for wsj\n",
    "list_articles_wsj = df[df['publication'] == 'WSJ']['nltk_text'].apply(lambda x: x.split(' ')).tolist()\n",
    "# list of bigrams\n",
    "list_bigrams_wsj = [list(bigrams(tweet)) for tweet in list_articles_wsj]\n",
    "# flatten list of bigrams\n",
    "terms_bigram_wsj = list(itertools.chain(*list_bigrams_wsj))\n",
    "# count bigrams across corpus\n",
    "bigram_counts_wsj = collections.Counter(terms_bigram_wsj)\n",
    "# select top 20\n",
    "top_bigrams_wsj = bigram_counts_nytimes.most_common(20)\n",
    "# make a df\n",
    "bigram_df_wsj = pd.DataFrame(top_bigrams_wsj, columns=['bigram', 'count'])"
   ]
  },
  {
   "cell_type": "code",
   "execution_count": 111,
   "metadata": {},
   "outputs": [],
   "source": [
    "d = bigram_df_wsj.set_index('bigram').T.to_dict('records')"
   ]
  },
  {
   "cell_type": "code",
   "execution_count": 113,
   "metadata": {},
   "outputs": [],
   "source": [
    "G = nx.Graph()\n",
    "\n",
    "for k, v in d[0].items():\n",
    "    G.add_edge(k[0], k[1], weight=(v * 10))"
   ]
  },
  {
   "cell_type": "code",
   "execution_count": 138,
   "metadata": {},
   "outputs": [
    {
     "data": {
      "image/png": "[encoded data removed]",
      "text/plain": [
       "<Figure size 1008x576 with 1 Axes>"
      ]
     },
     "metadata": {},
     "output_type": "display_data"
    }
   ],
   "source": [
    "fig, ax = plt.subplots(figsize=(14, 8))\n",
    "\n",
    "#pos = nx.spring_layout(G, k=1.5)\n",
    "pos = nx.circular_layout(G)\n",
    "# Plot networks\n",
    "nx.draw_networkx(G, pos,\n",
    "                 font_size=16,\n",
    "                 width=3,\n",
    "                 edge_color='grey',\n",
    "                 node_color='purple',\n",
    "                 with_labels = False,\n",
    "                 ax=ax)\n",
    "\n",
    "# Create offset labels\n",
    "for key, value in pos.items():\n",
    "    x, y = value[0]+.075, value[1]+.045\n",
    "    ax.text(x, y,\n",
    "            s=key,\n",
    "            bbox=dict(facecolor='red', alpha=0.25),\n",
    "            horizontalalignment='center', fontsize=13)\n",
    "\n",
    "plt.title('Network of Bigrams for 2016 U.S. Presidential Election Articles', fontsize = 20)\n",
    "plt.xlabel(r'\\begin{center}\\textit{\\large{' + 'Source: Factiva News, author calculations' + r'}}\\end{center}')\n",
    "#plt.show()\n",
    "fig.savefig('bigrams.png', dpi = 600)"
   ]
  },
  {
   "cell_type": "markdown",
   "metadata": {},
   "source": [
    "## Machine Learning Section (not used)"
   ]
  },
  {
   "cell_type": "code",
   "execution_count": 41,
   "metadata": {},
   "outputs": [],
   "source": [
    "max_len_message = 2000\n",
    "from keras.preprocessing.text import Tokenizer\n",
    "from keras.preprocessing.sequence import pad_sequences\n",
    "from sklearn.model_selection import train_test_split\n",
    "import math\n",
    "import pandas as pd\n",
    "import numpy as np\n",
    "import matplotlib.pyplot as plt\n",
    "import tensorflow as tf\n",
    "import tensorflow.keras as tfk\n",
    "import datetime\n",
    "from sklearn.metrics import roc_curve\n",
    "from sklearn.metrics import auc\n",
    "tfkl = tfk.layers\n",
    "\n",
    "keras_tokenizer = Tokenizer()\n",
    "keras_tokenizer.fit_on_texts(df['nltk_text'].values)\n",
    "vocab = keras_tokenizer.index_word\n",
    "X = keras_tokenizer.texts_to_sequences(df['nltk_text'].values)\n",
    "X = pad_sequences(X, maxlen=max_len_message, padding='post')"
   ]
  },
  {
   "cell_type": "code",
   "execution_count": 42,
   "metadata": {},
   "outputs": [
    {
     "data": {
      "text/plain": [
       "array([[  493,   494,    22, ...,     0,     0,     0],\n",
       "       [  141,   561,   265, ...,     0,     0,     0],\n",
       "       [  508,     6,  1992, ...,     0,     0,     0],\n",
       "       ...,\n",
       "       [ 1559,  1430,   783, ...,     0,     0,     0],\n",
       "       [  655,  6110, 14681, ...,     0,     0,     0],\n",
       "       [ 6645,  3928,    35, ...,     0,     0,     0]])"
      ]
     },
     "execution_count": 42,
     "metadata": {},
     "output_type": "execute_result"
    }
   ],
   "source": [
    "X"
   ]
  },
  {
   "cell_type": "code",
   "execution_count": 43,
   "metadata": {},
   "outputs": [],
   "source": [
    "# split the data into three categories: train section for training model, \n",
    "# validation section for checking progress at each epoch\n",
    "# and test section for checking final performance of model\n",
    "X_train, X_test, y_train, y_test \\\n",
    "    = train_test_split([x for x in range(X.shape[0])], \n",
    "                       df['pub_nytimes'].values, \n",
    "                       test_size=0.15, \n",
    "                       random_state=2452,\n",
    "                       stratify = df['pub_nytimes'].values)\n",
    "\n",
    "# X_train, X_val, y_train, y_val \\\n",
    "#     = train_test_split([x for x in range(len(X_train))], \n",
    "#                        y_train, \n",
    "#                        test_size=0.05, \n",
    "#                        random_state=764,\n",
    "#                        stratify = y_train)\n"
   ]
  },
  {
   "cell_type": "code",
   "execution_count": 44,
   "metadata": {},
   "outputs": [],
   "source": [
    "train_tfdf = (  tf.data.Dataset.from_tensor_slices(\n",
    "                   (tf.cast(X[X_train,:], tf.uint32), tf.cast(y_train, tf.uint8))\n",
    "                )\n",
    "             .batch(32).repeat()\n",
    "             )\n",
    "test_tfdf = (  tf.data.Dataset.from_tensor_slices(\n",
    "                   (tf.cast(X[X_test,:], tf.uint32), tf.cast(y_test, tf.uint8))\n",
    "                )\n",
    "             .batch(len(y_test)).repeat()\n",
    "             )\n",
    "# val_tfdf = (  tf.data.Dataset.from_tensor_slices(\n",
    "#                    (tf.cast(X[X_val,:], tf.uint32), tf.cast(y_val, tf.uint8))\n",
    "#                 )\n",
    "#              .batch(len(y_val)).repeat()\n",
    "#              )"
   ]
  },
  {
   "cell_type": "code",
   "execution_count": 45,
   "metadata": {},
   "outputs": [
    {
     "name": "stdout",
     "output_type": "stream",
     "text": [
      "Model: \"sequential\"\n",
      "_________________________________________________________________\n",
      "Layer (type)                 Output Shape              Param #   \n",
      "=================================================================\n",
      "embedding (Embedding)        (None, 2000, 16)          482848    \n",
      "_________________________________________________________________\n",
      "bidirectional (Bidirectional (None, 200)               93600     \n",
      "_________________________________________________________________\n",
      "dropout (Dropout)            (None, 200)               0         \n",
      "_________________________________________________________________\n",
      "dense (Dense)                (None, 1)                 201       \n",
      "=================================================================\n",
      "Total params: 576,649\n",
      "Trainable params: 576,649\n",
      "Non-trainable params: 0\n",
      "_________________________________________________________________\n"
     ]
    }
   ],
   "source": [
    "rnn_model = tfk.Sequential([\n",
    "    tfkl.Embedding(input_dim=len(vocab)+1, output_dim=16, input_length=max_len_message),\n",
    "    tfkl.Bidirectional(tfkl.LSTM(100)),\n",
    "    tfkl.Dropout(0.25),\n",
    "    tfkl.Dense(1,activation=\"sigmoid\")\n",
    "])\n",
    "rnn_model.summary()"
   ]
  },
  {
   "cell_type": "code",
   "execution_count": 46,
   "metadata": {},
   "outputs": [],
   "source": [
    "rnn_model.compile(loss=tfk.losses.BinaryCrossentropy(), \n",
    "                  metrics=[tfk.metrics.BinaryAccuracy()],\n",
    "                  optimizer=tfk.optimizers.Adam()\n",
    "                 )\n",
    "log_dir = \"logs/fit/\" + datetime.datetime.now().strftime(\"%Y%m%d-%H%M%S\")\n",
    "tensorboard_callback = tf.keras.callbacks.TensorBoard(log_dir=log_dir, histogram_freq=1)"
   ]
  },
  {
   "cell_type": "code",
   "execution_count": 47,
   "metadata": {},
   "outputs": [
    {
     "data": {
      "text/plain": [
       "[PhysicalDevice(name='/physical_device:GPU:0', device_type='GPU')]"
      ]
     },
     "execution_count": 47,
     "metadata": {},
     "output_type": "execute_result"
    }
   ],
   "source": [
    "tf.config.list_physical_devices('GPU')"
   ]
  },
  {
   "cell_type": "code",
   "execution_count": 48,
   "metadata": {},
   "outputs": [
    {
     "name": "stdout",
     "output_type": "stream",
     "text": [
      "Epoch 1/10\n"
     ]
    },
    {
     "ename": "CancelledError",
     "evalue": " [_Derived_]RecvAsync is cancelled.\n\t [[{{node Adam/Adam/update/AssignSubVariableOp/_41}}]]\n\t [[gradient_tape/sequential/embedding/embedding_lookup/Reshape/_38]] [Op:__inference_train_function_5761]\n\nFunction call stack:\ntrain_function\n",
     "output_type": "error",
     "traceback": [
      "\u001b[1;31m---------------------------------------------------------------------------\u001b[0m",
      "\u001b[1;31mCancelledError\u001b[0m                            Traceback (most recent call last)",
      "\u001b[1;32m<ipython-input-48-7a40b16de3ac>\u001b[0m in \u001b[0;36m<module>\u001b[1;34m\u001b[0m\n\u001b[1;32m----> 1\u001b[1;33m results = rnn_model.fit(train_tfdf, steps_per_epoch=200, epochs=10,\n\u001b[0m\u001b[0;32m      2\u001b[0m                           \u001b[0mvalidation_data\u001b[0m \u001b[1;33m=\u001b[0m \u001b[0mtest_tfdf\u001b[0m\u001b[1;33m,\u001b[0m\u001b[1;33m\u001b[0m\u001b[1;33m\u001b[0m\u001b[0m\n\u001b[0;32m      3\u001b[0m                           \u001b[0mvalidation_steps\u001b[0m \u001b[1;33m=\u001b[0m \u001b[1;36m1\u001b[0m\u001b[1;33m,\u001b[0m\u001b[1;33m\u001b[0m\u001b[1;33m\u001b[0m\u001b[0m\n\u001b[0;32m      4\u001b[0m           callbacks=[tensorboard_callback])\n",
      "\u001b[1;32m~\\anaconda3\\lib\\site-packages\\tensorflow\\python\\keras\\engine\\training.py\u001b[0m in \u001b[0;36m_method_wrapper\u001b[1;34m(self, *args, **kwargs)\u001b[0m\n\u001b[0;32m    106\u001b[0m   \u001b[1;32mdef\u001b[0m \u001b[0m_method_wrapper\u001b[0m\u001b[1;33m(\u001b[0m\u001b[0mself\u001b[0m\u001b[1;33m,\u001b[0m \u001b[1;33m*\u001b[0m\u001b[0margs\u001b[0m\u001b[1;33m,\u001b[0m \u001b[1;33m**\u001b[0m\u001b[0mkwargs\u001b[0m\u001b[1;33m)\u001b[0m\u001b[1;33m:\u001b[0m\u001b[1;33m\u001b[0m\u001b[1;33m\u001b[0m\u001b[0m\n\u001b[0;32m    107\u001b[0m     \u001b[1;32mif\u001b[0m \u001b[1;32mnot\u001b[0m \u001b[0mself\u001b[0m\u001b[1;33m.\u001b[0m\u001b[0m_in_multi_worker_mode\u001b[0m\u001b[1;33m(\u001b[0m\u001b[1;33m)\u001b[0m\u001b[1;33m:\u001b[0m  \u001b[1;31m# pylint: disable=protected-access\u001b[0m\u001b[1;33m\u001b[0m\u001b[1;33m\u001b[0m\u001b[0m\n\u001b[1;32m--> 108\u001b[1;33m       \u001b[1;32mreturn\u001b[0m \u001b[0mmethod\u001b[0m\u001b[1;33m(\u001b[0m\u001b[0mself\u001b[0m\u001b[1;33m,\u001b[0m \u001b[1;33m*\u001b[0m\u001b[0margs\u001b[0m\u001b[1;33m,\u001b[0m \u001b[1;33m**\u001b[0m\u001b[0mkwargs\u001b[0m\u001b[1;33m)\u001b[0m\u001b[1;33m\u001b[0m\u001b[1;33m\u001b[0m\u001b[0m\n\u001b[0m\u001b[0;32m    109\u001b[0m \u001b[1;33m\u001b[0m\u001b[0m\n\u001b[0;32m    110\u001b[0m     \u001b[1;31m# Running inside `run_distribute_coordinator` already.\u001b[0m\u001b[1;33m\u001b[0m\u001b[1;33m\u001b[0m\u001b[1;33m\u001b[0m\u001b[0m\n",
      "\u001b[1;32m~\\anaconda3\\lib\\site-packages\\tensorflow\\python\\keras\\engine\\training.py\u001b[0m in \u001b[0;36mfit\u001b[1;34m(self, x, y, batch_size, epochs, verbose, callbacks, validation_split, validation_data, shuffle, class_weight, sample_weight, initial_epoch, steps_per_epoch, validation_steps, validation_batch_size, validation_freq, max_queue_size, workers, use_multiprocessing)\u001b[0m\n\u001b[0;32m   1096\u001b[0m                 batch_size=batch_size):\n\u001b[0;32m   1097\u001b[0m               \u001b[0mcallbacks\u001b[0m\u001b[1;33m.\u001b[0m\u001b[0mon_train_batch_begin\u001b[0m\u001b[1;33m(\u001b[0m\u001b[0mstep\u001b[0m\u001b[1;33m)\u001b[0m\u001b[1;33m\u001b[0m\u001b[1;33m\u001b[0m\u001b[0m\n\u001b[1;32m-> 1098\u001b[1;33m               \u001b[0mtmp_logs\u001b[0m \u001b[1;33m=\u001b[0m \u001b[0mtrain_function\u001b[0m\u001b[1;33m(\u001b[0m\u001b[0miterator\u001b[0m\u001b[1;33m)\u001b[0m\u001b[1;33m\u001b[0m\u001b[1;33m\u001b[0m\u001b[0m\n\u001b[0m\u001b[0;32m   1099\u001b[0m               \u001b[1;32mif\u001b[0m \u001b[0mdata_handler\u001b[0m\u001b[1;33m.\u001b[0m\u001b[0mshould_sync\u001b[0m\u001b[1;33m:\u001b[0m\u001b[1;33m\u001b[0m\u001b[1;33m\u001b[0m\u001b[0m\n\u001b[0;32m   1100\u001b[0m                 \u001b[0mcontext\u001b[0m\u001b[1;33m.\u001b[0m\u001b[0masync_wait\u001b[0m\u001b[1;33m(\u001b[0m\u001b[1;33m)\u001b[0m\u001b[1;33m\u001b[0m\u001b[1;33m\u001b[0m\u001b[0m\n",
      "\u001b[1;32m~\\anaconda3\\lib\\site-packages\\tensorflow\\python\\eager\\def_function.py\u001b[0m in \u001b[0;36m__call__\u001b[1;34m(self, *args, **kwds)\u001b[0m\n\u001b[0;32m    778\u001b[0m       \u001b[1;32melse\u001b[0m\u001b[1;33m:\u001b[0m\u001b[1;33m\u001b[0m\u001b[1;33m\u001b[0m\u001b[0m\n\u001b[0;32m    779\u001b[0m         \u001b[0mcompiler\u001b[0m \u001b[1;33m=\u001b[0m \u001b[1;34m\"nonXla\"\u001b[0m\u001b[1;33m\u001b[0m\u001b[1;33m\u001b[0m\u001b[0m\n\u001b[1;32m--> 780\u001b[1;33m         \u001b[0mresult\u001b[0m \u001b[1;33m=\u001b[0m \u001b[0mself\u001b[0m\u001b[1;33m.\u001b[0m\u001b[0m_call\u001b[0m\u001b[1;33m(\u001b[0m\u001b[1;33m*\u001b[0m\u001b[0margs\u001b[0m\u001b[1;33m,\u001b[0m \u001b[1;33m**\u001b[0m\u001b[0mkwds\u001b[0m\u001b[1;33m)\u001b[0m\u001b[1;33m\u001b[0m\u001b[1;33m\u001b[0m\u001b[0m\n\u001b[0m\u001b[0;32m    781\u001b[0m \u001b[1;33m\u001b[0m\u001b[0m\n\u001b[0;32m    782\u001b[0m       \u001b[0mnew_tracing_count\u001b[0m \u001b[1;33m=\u001b[0m \u001b[0mself\u001b[0m\u001b[1;33m.\u001b[0m\u001b[0m_get_tracing_count\u001b[0m\u001b[1;33m(\u001b[0m\u001b[1;33m)\u001b[0m\u001b[1;33m\u001b[0m\u001b[1;33m\u001b[0m\u001b[0m\n",
      "\u001b[1;32m~\\anaconda3\\lib\\site-packages\\tensorflow\\python\\eager\\def_function.py\u001b[0m in \u001b[0;36m_call\u001b[1;34m(self, *args, **kwds)\u001b[0m\n\u001b[0;32m    838\u001b[0m         \u001b[1;31m# Lifting succeeded, so variables are initialized and we can run the\u001b[0m\u001b[1;33m\u001b[0m\u001b[1;33m\u001b[0m\u001b[1;33m\u001b[0m\u001b[0m\n\u001b[0;32m    839\u001b[0m         \u001b[1;31m# stateless function.\u001b[0m\u001b[1;33m\u001b[0m\u001b[1;33m\u001b[0m\u001b[1;33m\u001b[0m\u001b[0m\n\u001b[1;32m--> 840\u001b[1;33m         \u001b[1;32mreturn\u001b[0m \u001b[0mself\u001b[0m\u001b[1;33m.\u001b[0m\u001b[0m_stateless_fn\u001b[0m\u001b[1;33m(\u001b[0m\u001b[1;33m*\u001b[0m\u001b[0margs\u001b[0m\u001b[1;33m,\u001b[0m \u001b[1;33m**\u001b[0m\u001b[0mkwds\u001b[0m\u001b[1;33m)\u001b[0m\u001b[1;33m\u001b[0m\u001b[1;33m\u001b[0m\u001b[0m\n\u001b[0m\u001b[0;32m    841\u001b[0m     \u001b[1;32melse\u001b[0m\u001b[1;33m:\u001b[0m\u001b[1;33m\u001b[0m\u001b[1;33m\u001b[0m\u001b[0m\n\u001b[0;32m    842\u001b[0m       \u001b[0mcanon_args\u001b[0m\u001b[1;33m,\u001b[0m \u001b[0mcanon_kwds\u001b[0m \u001b[1;33m=\u001b[0m\u001b[0;31m \u001b[0m\u001b[0;31m\\\u001b[0m\u001b[1;33m\u001b[0m\u001b[1;33m\u001b[0m\u001b[0m\n",
      "\u001b[1;32m~\\anaconda3\\lib\\site-packages\\tensorflow\\python\\eager\\function.py\u001b[0m in \u001b[0;36m__call__\u001b[1;34m(self, *args, **kwargs)\u001b[0m\n\u001b[0;32m   2827\u001b[0m     \u001b[1;32mwith\u001b[0m \u001b[0mself\u001b[0m\u001b[1;33m.\u001b[0m\u001b[0m_lock\u001b[0m\u001b[1;33m:\u001b[0m\u001b[1;33m\u001b[0m\u001b[1;33m\u001b[0m\u001b[0m\n\u001b[0;32m   2828\u001b[0m       \u001b[0mgraph_function\u001b[0m\u001b[1;33m,\u001b[0m \u001b[0margs\u001b[0m\u001b[1;33m,\u001b[0m \u001b[0mkwargs\u001b[0m \u001b[1;33m=\u001b[0m \u001b[0mself\u001b[0m\u001b[1;33m.\u001b[0m\u001b[0m_maybe_define_function\u001b[0m\u001b[1;33m(\u001b[0m\u001b[0margs\u001b[0m\u001b[1;33m,\u001b[0m \u001b[0mkwargs\u001b[0m\u001b[1;33m)\u001b[0m\u001b[1;33m\u001b[0m\u001b[1;33m\u001b[0m\u001b[0m\n\u001b[1;32m-> 2829\u001b[1;33m     \u001b[1;32mreturn\u001b[0m \u001b[0mgraph_function\u001b[0m\u001b[1;33m.\u001b[0m\u001b[0m_filtered_call\u001b[0m\u001b[1;33m(\u001b[0m\u001b[0margs\u001b[0m\u001b[1;33m,\u001b[0m \u001b[0mkwargs\u001b[0m\u001b[1;33m)\u001b[0m  \u001b[1;31m# pylint: disable=protected-access\u001b[0m\u001b[1;33m\u001b[0m\u001b[1;33m\u001b[0m\u001b[0m\n\u001b[0m\u001b[0;32m   2830\u001b[0m \u001b[1;33m\u001b[0m\u001b[0m\n\u001b[0;32m   2831\u001b[0m   \u001b[1;33m@\u001b[0m\u001b[0mproperty\u001b[0m\u001b[1;33m\u001b[0m\u001b[1;33m\u001b[0m\u001b[0m\n",
      "\u001b[1;32m~\\anaconda3\\lib\\site-packages\\tensorflow\\python\\eager\\function.py\u001b[0m in \u001b[0;36m_filtered_call\u001b[1;34m(self, args, kwargs, cancellation_manager)\u001b[0m\n\u001b[0;32m   1841\u001b[0m       \u001b[0;31m`\u001b[0m\u001b[0margs\u001b[0m\u001b[0;31m`\u001b[0m \u001b[1;32mand\u001b[0m\u001b[0;31m \u001b[0m\u001b[0;31m`\u001b[0m\u001b[0mkwargs\u001b[0m\u001b[0;31m`\u001b[0m\u001b[1;33m.\u001b[0m\u001b[1;33m\u001b[0m\u001b[1;33m\u001b[0m\u001b[0m\n\u001b[0;32m   1842\u001b[0m     \"\"\"\n\u001b[1;32m-> 1843\u001b[1;33m     return self._call_flat(\n\u001b[0m\u001b[0;32m   1844\u001b[0m         [t for t in nest.flatten((args, kwargs), expand_composites=True)\n\u001b[0;32m   1845\u001b[0m          if isinstance(t, (ops.Tensor,\n",
      "\u001b[1;32m~\\anaconda3\\lib\\site-packages\\tensorflow\\python\\eager\\function.py\u001b[0m in \u001b[0;36m_call_flat\u001b[1;34m(self, args, captured_inputs, cancellation_manager)\u001b[0m\n\u001b[0;32m   1921\u001b[0m         and executing_eagerly):\n\u001b[0;32m   1922\u001b[0m       \u001b[1;31m# No tape is watching; skip to running the function.\u001b[0m\u001b[1;33m\u001b[0m\u001b[1;33m\u001b[0m\u001b[1;33m\u001b[0m\u001b[0m\n\u001b[1;32m-> 1923\u001b[1;33m       return self._build_call_outputs(self._inference_function.call(\n\u001b[0m\u001b[0;32m   1924\u001b[0m           ctx, args, cancellation_manager=cancellation_manager))\n\u001b[0;32m   1925\u001b[0m     forward_backward = self._select_forward_and_backward_functions(\n",
      "\u001b[1;32m~\\anaconda3\\lib\\site-packages\\tensorflow\\python\\eager\\function.py\u001b[0m in \u001b[0;36mcall\u001b[1;34m(self, ctx, args, cancellation_manager)\u001b[0m\n\u001b[0;32m    543\u001b[0m       \u001b[1;32mwith\u001b[0m \u001b[0m_InterpolateFunctionError\u001b[0m\u001b[1;33m(\u001b[0m\u001b[0mself\u001b[0m\u001b[1;33m)\u001b[0m\u001b[1;33m:\u001b[0m\u001b[1;33m\u001b[0m\u001b[1;33m\u001b[0m\u001b[0m\n\u001b[0;32m    544\u001b[0m         \u001b[1;32mif\u001b[0m \u001b[0mcancellation_manager\u001b[0m \u001b[1;32mis\u001b[0m \u001b[1;32mNone\u001b[0m\u001b[1;33m:\u001b[0m\u001b[1;33m\u001b[0m\u001b[1;33m\u001b[0m\u001b[0m\n\u001b[1;32m--> 545\u001b[1;33m           outputs = execute.execute(\n\u001b[0m\u001b[0;32m    546\u001b[0m               \u001b[0mstr\u001b[0m\u001b[1;33m(\u001b[0m\u001b[0mself\u001b[0m\u001b[1;33m.\u001b[0m\u001b[0msignature\u001b[0m\u001b[1;33m.\u001b[0m\u001b[0mname\u001b[0m\u001b[1;33m)\u001b[0m\u001b[1;33m,\u001b[0m\u001b[1;33m\u001b[0m\u001b[1;33m\u001b[0m\u001b[0m\n\u001b[0;32m    547\u001b[0m               \u001b[0mnum_outputs\u001b[0m\u001b[1;33m=\u001b[0m\u001b[0mself\u001b[0m\u001b[1;33m.\u001b[0m\u001b[0m_num_outputs\u001b[0m\u001b[1;33m,\u001b[0m\u001b[1;33m\u001b[0m\u001b[1;33m\u001b[0m\u001b[0m\n",
      "\u001b[1;32m~\\anaconda3\\lib\\site-packages\\tensorflow\\python\\eager\\execute.py\u001b[0m in \u001b[0;36mquick_execute\u001b[1;34m(op_name, num_outputs, inputs, attrs, ctx, name)\u001b[0m\n\u001b[0;32m     57\u001b[0m   \u001b[1;32mtry\u001b[0m\u001b[1;33m:\u001b[0m\u001b[1;33m\u001b[0m\u001b[1;33m\u001b[0m\u001b[0m\n\u001b[0;32m     58\u001b[0m     \u001b[0mctx\u001b[0m\u001b[1;33m.\u001b[0m\u001b[0mensure_initialized\u001b[0m\u001b[1;33m(\u001b[0m\u001b[1;33m)\u001b[0m\u001b[1;33m\u001b[0m\u001b[1;33m\u001b[0m\u001b[0m\n\u001b[1;32m---> 59\u001b[1;33m     tensors = pywrap_tfe.TFE_Py_Execute(ctx._handle, device_name, op_name,\n\u001b[0m\u001b[0;32m     60\u001b[0m                                         inputs, attrs, num_outputs)\n\u001b[0;32m     61\u001b[0m   \u001b[1;32mexcept\u001b[0m \u001b[0mcore\u001b[0m\u001b[1;33m.\u001b[0m\u001b[0m_NotOkStatusException\u001b[0m \u001b[1;32mas\u001b[0m \u001b[0me\u001b[0m\u001b[1;33m:\u001b[0m\u001b[1;33m\u001b[0m\u001b[1;33m\u001b[0m\u001b[0m\n",
      "\u001b[1;31mCancelledError\u001b[0m:  [_Derived_]RecvAsync is cancelled.\n\t [[{{node Adam/Adam/update/AssignSubVariableOp/_41}}]]\n\t [[gradient_tape/sequential/embedding/embedding_lookup/Reshape/_38]] [Op:__inference_train_function_5761]\n\nFunction call stack:\ntrain_function\n"
     ]
    }
   ],
   "source": [
    "results = rnn_model.fit(train_tfdf, steps_per_epoch=200, epochs=10,\n",
    "                          validation_data = test_tfdf,\n",
    "                          validation_steps = 1,\n",
    "          callbacks=[tensorboard_callback])"
   ]
  },
  {
   "cell_type": "code",
   "execution_count": null,
   "metadata": {},
   "outputs": [],
   "source": [
    "y_pred_keras = rnn_model.predict(X[X_test,:]).ravel()\n",
    "fpr_keras_rnn, tpr_keras_rnn, thresholds_keras_rnn = roc_curve(y_test, y_pred_keras)\n",
    "auc_keras_rnn = auc(fpr_keras_rnn, tpr_keras_rnn)"
   ]
  },
  {
   "cell_type": "code",
   "execution_count": null,
   "metadata": {},
   "outputs": [],
   "source": [
    "acc = results.history['binary_accuracy']\n",
    "val_acc = results.history['val_binary_accuracy']\n",
    "loss = results.history['loss']\n",
    "val_loss = results.history['val_loss']\n",
    "\n",
    "# Training + Valdiation Accuracy\n",
    "epochs = range(1,len(acc) + 1)\n",
    "plt.plot(epochs, acc, 'bo', label = 'Training Accuracy')\n",
    "plt.plot(epochs, val_acc, 'b', label = 'Validation Accuracy')\n",
    "plt.title('Training and validation accuracy')\n",
    "plt.legend()\n",
    "plt.figure()\n",
    "\n",
    "# Training + Validation Loss\n",
    "plt.plot( epochs, loss, 'bo', label = 'Training Loss')\n",
    "plt.plot( epochs, val_loss, 'b', label = 'Validation Loss')\n",
    "plt.title('Training and validation loss')\n",
    "plt.legend()\n",
    "plt.show()"
   ]
  },
  {
   "cell_type": "code",
   "execution_count": null,
   "metadata": {},
   "outputs": [],
   "source": [
    "plt.figure(1)\n",
    "plt.plot([0, 1], [0, 1], 'k--')\n",
    "plt.plot(fpr_keras_rnn, tpr_keras_rnn, label='LSTM word sequence (area = {:.3f})'.format(auc_keras_rnn))\n",
    "plt.xlabel('False positive rate')\n",
    "plt.ylabel('True positive rate')\n",
    "plt.title('ROC curve')\n",
    "plt.legend(loc='best')\n",
    "plt.show()"
   ]
  },
  {
   "cell_type": "code",
   "execution_count": null,
   "metadata": {},
   "outputs": [],
   "source": []
  }
 ],
 "metadata": {
  "kernelspec": {
   "display_name": "Python 3",
   "language": "python",
   "name": "python3"
  },
  "language_info": {
   "codemirror_mode": {
    "name": "ipython",
    "version": 3
   },
   "file_extension": ".py",
   "mimetype": "text/x-python",
   "name": "python",
   "nbconvert_exporter": "python",
   "pygments_lexer": "ipython3",
   "version": "3.8.3"
  }
 },
 "nbformat": 4,
 "nbformat_minor": 4
}
